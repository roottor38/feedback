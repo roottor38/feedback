{
 "cells": [
  {
   "cell_type": "code",
   "execution_count": 7,
   "metadata": {},
   "outputs": [],
   "source": [
    "import json\n",
    "import pandas as pd\n",
    "import numpy as np\n",
    "from konlpy.tag import Komoran\n",
    "from konlpy.tag import Twitter\n",
    "from time import time\n",
    "import pickle\n",
    "import os"
   ]
  },
  {
   "cell_type": "code",
   "execution_count": 9,
   "metadata": {},
   "outputs": [],
   "source": [
    "def read_csv():\n",
    "    # pd로 csv 읽기\n",
    "    return pd.concat([pd.read_csv(\"data/neg_opinion12.csv\"), pd.read_csv(\"data/pos_opinion12.csv\"),\\\n",
    "                      pd.read_csv(\"data/neg_opinion19.csv\"), pd.read_csv(\"data/pos_opinion19.csv\")])\\\n",
    "            .reset_index().drop('index', axis=1) # 인덱스 초기화"
   ]
  },
  {
   "cell_type": "code",
   "execution_count": 13,
   "metadata": {},
   "outputs": [],
   "source": [
    "doc = read_csv()"
   ]
  },
  {
   "cell_type": "code",
   "execution_count": 19,
   "metadata": {},
   "outputs": [],
   "source": [
    "twitter = Twitter()\n",
    "def tokenizer_twitter_morphs(doc):\n",
    "    return twitter.morphs(doc)\n",
    "\n",
    "def tokenizer_twitter_noun(doc):\n",
    "    return twitter.nouns(doc)\n",
    "\n",
    "def tokenizer_twitter_pos(doc):\n",
    "    return twitter.pos(doc, norm=True, stem=True)"
   ]
  },
  {
   "cell_type": "code",
   "execution_count": 24,
   "metadata": {},
   "outputs": [
    {
     "data": {
      "text/plain": [
       "[('신', 'Modifier'),\n",
       " ('성검사', 'Noun'),\n",
       " ('세인트', 'Noun'),\n",
       " ('카운터', 'Noun'),\n",
       " ('발동', 'Noun'),\n",
       " ('확률', 'Noun'),\n",
       " ('급상승', 'Noun'),\n",
       " ('한', 'Determiner'),\n",
       " ('듯', 'Noun'),\n",
       " ('하다', 'Verb'),\n",
       " ('.', 'Punctuation'),\n",
       " ('\\n', 'Foreign'),\n",
       " ('머리', 'Noun'),\n",
       " ('위', 'Noun'),\n",
       " ('에', 'Josa'),\n",
       " ('방패', 'Noun'),\n",
       " ('가', 'Josa'),\n",
       " ('계속', 'Noun'),\n",
       " ('뜨다', 'Verb'),\n",
       " ('힐', 'Noun'),\n",
       " ('이', 'Josa'),\n",
       " ('계속', 'Noun'),\n",
       " ('들어가다', 'Verb'),\n",
       " ('\\n', 'Foreign'),\n",
       " ('확률', 'Noun'),\n",
       " ('조정', 'Noun'),\n",
       " ('한', 'Determiner'),\n",
       " ('답시고', 'Noun'),\n",
       " ('묻다', 'Verb'),\n",
       " ('상향', 'Noun'),\n",
       " ('하다', 'Verb'),\n",
       " ('수치', 'Noun'),\n",
       " ('를', 'Josa'),\n",
       " ('잘못', 'Noun'),\n",
       " ('건', 'Noun'),\n",
       " ('들이다', 'Verb'),\n",
       " ('하다', 'Verb'),\n",
       " ('ㅋㅋㅋ', 'KoreanParticle'),\n",
       " ('\\n', 'Foreign'),\n",
       " ('빠르다', 'Adjective'),\n",
       " ('긴급', 'Noun'),\n",
       " ('점검', 'Noun'),\n",
       " ('부탁드리다', 'Adjective')]"
      ]
     },
     "execution_count": 24,
     "metadata": {},
     "output_type": "execute_result"
    }
   ],
   "source": [
    "tokenizer_twitter_pos('''신성검사 세인트 카운터 발동확률 급상승한듯 합니다.\n",
    "머리위에 방패가 계속 뜨면서 힐이 계속 들어가네요\n",
    "확률 조정한답시고 묻지마 상향 했는데 수치를 잘못 건들인듯합니다 ㅋㅋㅋㅋㅋㅋㅋ\n",
    "빠른 긴급점검 부탁드립니다''')"
   ]
  },
  {
   "cell_type": "code",
   "execution_count": 22,
   "metadata": {},
   "outputs": [
    {
     "data": {
      "text/plain": [
       "0                   접속하자마자 제가가지고 있는변신 모두사라졌습니다.빨리수정 부탁합니다.\n",
       "1        엘프 궁수 하는데 4렙때 자동 스킬 아레로 드래그하라면서 회색화면으로 다른건 터치도...\n",
       "2                                                 왜 안깔리냐..\n",
       "3                                                  유져 엿 먹임\n",
       "4                                                      도박장\n",
       "                               ...                        \n",
       "46716                                    실망시키지 않았으면... 좋겠다\n",
       "46717                                                거래소 굿\n",
       "46718                                                  굿^^\n",
       "46719                                               최고의 게임\n",
       "46720                                              거래소 아싸~\n",
       "Name: comment, Length: 46721, dtype: object"
      ]
     },
     "execution_count": 22,
     "metadata": {},
     "output_type": "execute_result"
    }
   ],
   "source": [
    "doc['comment']"
   ]
  },
  {
   "cell_type": "code",
   "execution_count": null,
   "metadata": {},
   "outputs": [],
   "source": []
  },
  {
   "cell_type": "code",
   "execution_count": null,
   "metadata": {},
   "outputs": [],
   "source": []
  },
  {
   "cell_type": "code",
   "execution_count": null,
   "metadata": {},
   "outputs": [],
   "source": []
  },
  {
   "cell_type": "code",
   "execution_count": null,
   "metadata": {},
   "outputs": [],
   "source": []
  },
  {
   "cell_type": "code",
   "execution_count": null,
   "metadata": {},
   "outputs": [],
   "source": []
  },
  {
   "cell_type": "code",
   "execution_count": null,
   "metadata": {},
   "outputs": [],
   "source": []
  },
  {
   "cell_type": "code",
   "execution_count": null,
   "metadata": {},
   "outputs": [],
   "source": []
  }
 ],
 "metadata": {
  "kernelspec": {
   "display_name": "Python 3",
   "language": "python",
   "name": "python3"
  },
  "language_info": {
   "codemirror_mode": {
    "name": "ipython",
    "version": 3
   },
   "file_extension": ".py",
   "mimetype": "text/x-python",
   "name": "python",
   "nbconvert_exporter": "python",
   "pygments_lexer": "ipython3",
   "version": "3.7.4"
  }
 },
 "nbformat": 4,
 "nbformat_minor": 2
}
